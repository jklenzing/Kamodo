{
 "cells": [
  {
   "cell_type": "markdown",
   "metadata": {},
   "source": [
    "# Demo notebook for VERB-3D Model Reader"
   ]
  },
  {
   "cell_type": "code",
   "metadata": {},
   "source": [
    "# Delete the time files before running.\n",
    "model = 'VERB-3D'\n",
    "variables_requested = ['PSD_lea', 'L', 'E_e', 'alpha_e', 'flux_lea', 'PSD_lmk']  \n",
    "\n",
    "# change file path to where data is stored on your machine\n",
    "# verb_dataset = \"C:\\\\work\\\\Codes\\\\CCMC\\\\simulations_CCMC\\\\Alexander_Drozdov_031221_IM_6\\\\Output\\\\\"\n",
    "verb_dataset = \"C:\\\\work\\\\Codes\\\\CCMC\\\\simulations_CCMC\\\\Alexander_Drozdov_060322_IM_4\\\\Output\\\\\"\n"
   ],
   "outputs": [],
   "execution_count": null
  },
  {
   "metadata": {},
   "cell_type": "markdown",
   "source": "Next section can be used to download the dataset from CCMC. Set `DOWNLOAD_TEST_DATASET` to `True` and change `ccmc_download_path` accordingly."
  },
  {
   "metadata": {},
   "cell_type": "code",
   "source": [
    "import os\n",
    "import requests\n",
    "\n",
    "# Flag to download tests dataset\n",
    "DOWNLOAD_TEST_DATASET = False\n",
    "\n",
    "# Path where download VERB code output\n",
    "ccmc_download_path = \"C:\\\\work\\\\Codes\\\\CCMC\\\\simulations_CCMC\\\\\"\n",
    "# Name of the simulation folder\n",
    "ccmc_simulation_name = \"Alexander_Drozdov_060322_IM_4\"\n",
    "# CCMC url\n",
    "ccmc_ror_url = 'https://ccmc.gsfc.nasa.gov/results/api/get_run_file.php'\n",
    "\n",
    "# Download process\n",
    "filenames = [\"Output/OutPSD.dat\", \"Output/out1d.dat\", \"Output/perp_grid.plt\", \"ror_metadata.json\"]\n",
    "\n",
    "if DOWNLOAD_TEST_DATASET:\n",
    "    # Create the folder for the runnumber and the Output subfolder\n",
    "    folder_path = os.path.join(ccmc_download_path, ccmc_simulation_name, 'Output')\n",
    "    os.makedirs(folder_path, exist_ok=True)\n",
    "    \n",
    "    # Download and save files in a structured way\n",
    "    for filename in filenames:    \n",
    "        file_path = os.path.join(folder_path, filename.split('/')[-1])\n",
    "        if 'json' not in filename:\n",
    "            file_path = os.path.join(folder_path, filename.split('/')[-1])\n",
    "        \n",
    "        url = f'{ccmc_ror_url}?runnumber={ccmc_simulation_name}&filename={filename}'\n",
    "        \n",
    "        # Download and save the file\n",
    "        response = requests.get(url)\n",
    "        with open(file_path, 'wb') as file:\n",
    "            file.write(response.content)\n",
    "    \n",
    "        print(f\"{file_path} downloaded successfully.\")\n",
    "        \n",
    "    verb_dataset = folder_path"
   ],
   "outputs": [],
   "execution_count": null
  },
  {
   "cell_type": "code",
   "metadata": {
    "collapsed": false,
    "jupyter": {
     "outputs_hidden": false
    }
   },
   "source": [
    "# Confirming the model existence\n",
    "import kamodo_ccmc.flythrough.model_wrapper as MW\n",
    "MW.Model_Reader(model)"
   ],
   "outputs": [],
   "execution_count": null
  },
  {
   "cell_type": "code",
   "metadata": {
    "collapsed": false,
    "jupyter": {
     "outputs_hidden": false
    }
   },
   "source": [
    "# List all variables\n",
    "MW.Variable_Search('', model)"
   ],
   "outputs": [],
   "execution_count": null
  },
  {
   "cell_type": "code",
   "metadata": {},
   "source": [
    "# confirm MW functions work appropriately with model varnames dictionary\n",
    "MW.Variable_Search('')"
   ],
   "outputs": [],
   "execution_count": null
  },
  {
   "cell_type": "code",
   "metadata": {},
   "source": [
    "MW.Variable_Search('Phase Space Density', model)"
   ],
   "outputs": [],
   "execution_count": null
  },
  {
   "cell_type": "code",
   "metadata": {
    "collapsed": false,
    "jupyter": {
     "outputs_hidden": false
    }
   },
   "source": [
    "# Cleaning the existing '_list.txt' and '_times.txt'\n",
    "import os.path\n",
    "from os.path import isfile\n",
    "from os import remove\n",
    "list_file = os.path.join(verb_dataset, model+'_list.txt') \n",
    "times_file = os.path.join(verb_dataset, model+'_times.txt')\n",
    "if isfile(list_file):\n",
    "    print(f\"{list_file} is found and will be deleted\")\n",
    "    remove(list_file)\n",
    "if isfile(times_file):\n",
    "    print(f\"{times_file} is found and will be deleted\")\n",
    "    remove(times_file)"
   ],
   "outputs": [],
   "execution_count": null
  },
  {
   "cell_type": "code",
   "metadata": {},
   "source": [
    "MW.Variable_Search('Phase Space Density', model, verb_dataset)"
   ],
   "outputs": [],
   "execution_count": null
  },
  {
   "cell_type": "code",
   "metadata": {},
   "source": [
    "MW.Var_3D(model)"
   ],
   "outputs": [],
   "execution_count": null
  },
  {
   "cell_type": "code",
   "metadata": {},
   "source": [
    "MW.Var_units(model, variables_requested)"
   ],
   "outputs": [],
   "execution_count": null
  },
  {
   "cell_type": "code",
   "metadata": {},
   "source": [
    "# Confirm time method works with model reader\n",
    "MW.File_Times(model, verb_dataset)"
   ],
   "outputs": [],
   "execution_count": null
  },
  {
   "cell_type": "code",
   "metadata": {},
   "source": [
    "# Confirm file list method works with model reader\n",
    "MW.File_List(model, verb_dataset)"
   ],
   "outputs": [],
   "execution_count": null
  },
  {
   "cell_type": "code",
   "metadata": {},
   "source": [
    "# Check that time files creation works, that reader works for one variable,\n",
    "# and that an unknown variable request does not break it.\n",
    "reader = MW.Model_Reader(model)\n",
    "kamodo_object = reader(verb_dataset, variables_requested=['Trash'])\n",
    "kamodo_object"
   ],
   "outputs": [],
   "execution_count": null
  },
  {
   "cell_type": "code",
   "metadata": {},
   "source": [
    "# Check that reader works for one variable with an unknown variable\n",
    "kamodo_object = reader(verb_dataset, variables_requested=['Trash', variables_requested[0]])\n",
    "kamodo_object"
   ],
   "outputs": [],
   "execution_count": null
  },
  {
   "cell_type": "code",
   "metadata": {},
   "source": [
    "# Test model reader with all variables\n",
    "kamodo_object = reader(verb_dataset, variables_requested=variables_requested)\n",
    "kamodo_object"
   ],
   "outputs": [],
   "execution_count": null
  },
  {
   "cell_type": "code",
   "metadata": {},
   "source": [
    "# Check that reading the time files works and that reader works for one variable,\n",
    "kamodo_object = reader(verb_dataset, variables_requested=variables_requested[:1])\n",
    "kamodo_object"
   ],
   "outputs": [],
   "execution_count": null
  },
  {
   "cell_type": "code",
   "metadata": {},
   "source": [
    "# Verify start time\n",
    "kamodo_object.filedate"
   ],
   "outputs": [],
   "execution_count": null
  },
  {
   "cell_type": "code",
   "metadata": {},
   "source": [
    "# Check that reading the time files works, and that the reader works for all variables\n",
    "kamodo_object = reader(verb_dataset)\n",
    "kamodo_object"
   ],
   "outputs": [],
   "execution_count": null
  },
  {
   "cell_type": "code",
   "metadata": {},
   "source": [
    "# Get a list of all the functionalized variables, both regular and gridded\n",
    "var_list = list(MW.Variable_Search('', model, verb_dataset, return_dict=True).keys())\n",
    "varijk_list = sorted(var_list + [item+'_ijk' for item in var_list if 'PSD' in item])\n",
    "varijk_list"
   ],
   "outputs": [],
   "execution_count": null
  },
  {
   "cell_type": "code",
   "metadata": {},
   "source": [
    "# Test coordinate range logic for all variables\n",
    "try:\n",
    "    MW.Coord_Range(kamodo_object, varijk_list)\n",
    "except Exception as e:\n",
    "    print(f'Error during Coord_Range: {e.__class__}, {e}')"
   ],
   "outputs": [],
   "execution_count": null
  },
  {
   "cell_type": "code",
   "metadata": {
    "collapsed": false,
    "jupyter": {
     "outputs_hidden": false
    }
   },
   "source": [
    "# Does not work if name has \"_\"\n",
    "MW.Coord_Range(kamodo_object, ['PSD_lea_ijk'])"
   ],
   "outputs": [],
   "execution_count": null
  },
  {
   "cell_type": "code",
   "metadata": {},
   "source": [
    "# Check that the kamodo object was built properly.\n",
    "from math import isnan\n",
    "xvec = [0., 4., 1., 45]\n",
    "print(kamodo_object.PSD_lea(xvec))\n",
    "if isnan(kamodo_object.PSD_lea(xvec)[0]):\n",
    "    raise AttributeError('Returned value is a NaN.')\n",
    "else:\n",
    "    print('Value is valid.')"
   ],
   "outputs": [],
   "execution_count": null
  },
  {
   "cell_type": "code",
   "metadata": {},
   "source": [
    "# Check that the reader works for the testing subset\n",
    "kamodo_object = reader(verb_dataset, variables_requested=variables_requested)\n",
    "kamodo_object"
   ],
   "outputs": [],
   "execution_count": null
  },
  {
   "cell_type": "code",
   "metadata": {},
   "source": [
    "# Confirm that interpolation works. \n",
    "val_psd_lea = kamodo_object.PSD_lea([0., 4., 1., 45])\n",
    "print(val_psd_lea)\n",
    "if isnan(val_psd_lea[0]):\n",
    "    raise AttributeError('Returned value is a NaN.')\n",
    "else:\n",
    "    print('Value is valid.')\n",
    "val_psd_lea_int = kamodo_object.PSD_lea_ijk(time=0., L=4., E_e=1., alpha_e=45.)\n",
    "print(val_psd_lea_int)\n",
    "if isnan(val_psd_lea_int):\n",
    "    raise AttributeError('Returned value is a NaN.')\n",
    "else:\n",
    "    print('Value is valid.')\n",
    "if not val_psd_lea[0] == val_psd_lea_int:\n",
    "    raise AttributeError('Values are not equal.')\n",
    "else:\n",
    "    print('Values are equal.')\n"
   ],
   "outputs": [],
   "execution_count": null
  },
  {
   "cell_type": "code",
   "metadata": {
    "collapsed": false,
    "jupyter": {
     "outputs_hidden": false
    }
   },
   "source": [
    "# Confirm that the interpolator works for each testing variable and type\n",
    "xvec = [4., 1., 45]\n",
    "var_list = ['L', 'E_e', 'alpha_e']\n",
    "\n",
    "for var in var_list:\n",
    "    print(f'{var}: ')\n",
    "    kamodo_variable_object = getattr(kamodo_object, var, None)\n",
    "    if kamodo_variable_object:\n",
    "        val_kamodo_variable = kamodo_variable_object(xvec)\n",
    "        print(val_kamodo_variable)\n",
    "        if isnan(val_kamodo_variable[0]):\n",
    "            raise AttributeError('Returned value is a NaN.')\n",
    "        else:\n",
    "            print('Value is valid.')\n",
    "    else:\n",
    "        raise AttributeError(f'{var} is not a kamodo attribute')\n"
   ],
   "outputs": [],
   "execution_count": null
  },
  {
   "cell_type": "code",
   "metadata": {
    "collapsed": false,
    "jupyter": {
     "outputs_hidden": false
    }
   },
   "source": "kamodo_object.PSD_lea_ijk(time=0, E_e=1., alpha_e=45.)",
   "outputs": [],
   "execution_count": null
  },
  {
   "cell_type": "code",
   "metadata": {},
   "source": "kamodo_object.PSD_lea_ijk(time=2, E_e=1., alpha_e=45.)",
   "outputs": [],
   "execution_count": null
  },
  {
   "metadata": {},
   "cell_type": "code",
   "source": "kamodo_object.PSD_lmk_ijk(time=2, mu=700, K=0.11)",
   "outputs": [],
   "execution_count": null
  },
  {
   "cell_type": "code",
   "metadata": {},
   "source": [
    "# For plot and validation\n",
    "from kamodo_ccmc.tools.plotfunctions import toColor, figMods\n",
    "import numpy as np\n",
    "\n",
    "# ployly has issue with plotting when LaTeX should be displayed (https://github.com/plotly/plotly.py/issues/4336)\n",
    "# This disables interactive visualization for IDE like PyCharm, but allows the figure to render correctly.\n",
    "# If the notebook is executed in the browser, the default render should use 'iframe'.\n",
    "# Until plotly issue will be fixed this is the best method I was able to find.\n",
    "import plotly.io as pio\n",
    "pio.renderers.default = 'iframe+png'"
   ],
   "outputs": [],
   "execution_count": null
  },
  {
   "cell_type": "code",
   "metadata": {},
   "source": [
    "# Plot L profiles\n",
    "fig = kamodo_object.plot('PSD_lea_ijk', plot_partial={'PSD_lea_ijk': {'time': 1.5, 'E_e': 1., 'alpha_e' : 45}})\n",
    "fig.data[0].update(y=np.log10(fig.data[0].y))\n",
    "fig.update_layout(width=1200)\n",
    "fig.show()"
   ],
   "outputs": [],
   "execution_count": null
  },
  {
   "cell_type": "code",
   "metadata": {},
   "source": [
    "# Plot L profiles\n",
    "fig = kamodo_object.plot('PSD_lea_ijk', plot_partial={'PSD_lea_ijk': {'time': 1., 'L': 4.}})\n",
    "fig.data[0].update(x=np.log10(fig.data[0].y), zauto=False, zmin=-7)\n",
    "fig.data[0].colorbar.title.side = 'right'\n",
    "fig.update_layout(width=1200)\n",
    "# Plotly options for colorscale (https://plotly.com/python/reference/contour/#contour-colorscale)\n",
    "figMods(fig, colorscale=\"Rainbow\", log10=True)\n",
    "fig.show()"
   ],
   "outputs": [],
   "execution_count": null
  },
  {
   "cell_type": "code",
   "metadata": {},
   "source": [
    "# Plot time dependent PSD slice. Note, that Kamodo need minimum 4 points in time to construct this plot.\n",
    "fig = kamodo_object.plot('PSD_lea_ijk', plot_partial={'PSD_lea_ijk': {'L': 4., 'E_e': 1., 'alpha_e' : 45.}})\n",
    "fig.data[0].update(y=np.log10(fig.data[0].y))\n",
    "fig.update_layout(width=1200)\n",
    "fig.show()"
   ],
   "outputs": [],
   "execution_count": null
  },
  {
   "cell_type": "code",
   "metadata": {},
   "source": [
    "# Plot Energy vs alpha 2d plot\n",
    "fig = kamodo_object.plot('PSD_lea_ijk', plot_partial={'PSD_lea_ijk': {'time': 1.5, 'L': 4.}})\n",
    "fig.data[0].update(x=np.log10(fig.data[0].x), zauto=False, zmin=-7)\n",
    "fig.update_layout(width=1200)\n",
    "fig.data[0].colorbar.title.side = 'right'\n",
    "figMods(fig, colorscale=\"Rainbow\", log10=True)\n",
    "fig.show()"
   ],
   "outputs": [],
   "execution_count": null
  },
  {
   "cell_type": "code",
   "metadata": {},
   "source": [
    "# Plot L vs time. Note, Kamodo needs at least 4 points in time to construct this plot \n",
    "fig = kamodo_object.plot('PSD_lea_ijk', plot_partial={'PSD_lea_ijk': {'E_e': 1., 'alpha_e' : 45.}})\n",
    "fig.data[0].update(zauto=False, zmin=-7)\n",
    "fig.update_layout(width=1200)\n",
    "fig.data[0].colorbar.title.side = 'right'\n",
    "figMods(fig, colorscale=\"Rainbow\", log10=True)\n",
    "fig.show()"
   ],
   "outputs": [],
   "execution_count": null
  },
  {
   "metadata": {},
   "cell_type": "code",
   "source": [
    "fig = kamodo_object.plot('flux_lea_ijk', plot_partial={'flux_lea_ijk': {'E_e': 1., 'alpha_e' : 45.}})\n",
    "fig.data[0].update(zauto=False, zmin=-7)\n",
    "fig.update_layout(width=1200)\n",
    "fig.data[0].colorbar.title.side = 'right'\n",
    "figMods(fig, colorscale=\"Rainbow\", log10=True)\n",
    "fig.show()"
   ],
   "outputs": [],
   "execution_count": null
  },
  {
   "metadata": {},
   "cell_type": "code",
   "source": [
    "fig = kamodo_object.plot('PSD_lmk_ijk', plot_partial={'PSD_lmk_ijk': {'mu': 700., 'K' : 0.11}})\n",
    "fig.data[0].update(zauto=False, zmin=-7)\n",
    "fig.update_layout(width=1200)\n",
    "fig.data[0].colorbar.title.side = 'right'\n",
    "figMods(fig, colorscale=\"Rainbow\", log10=True)\n",
    "fig.show()"
   ],
   "outputs": [],
   "execution_count": null
  },
  {
   "metadata": {},
   "cell_type": "code",
   "source": [
    "# Test that more than one variable works through the flythrough\n",
    "from kamodo_ccmc.flythrough import SatelliteFlythrough as SF\n",
    "import datetime as dt\n",
    "start_utcts = kamodo_object.filedate.timestamp()\n",
    "end_utcts = (kamodo_object.filedate + dt.timedelta(hours=1)).timestamp()\n",
    "results = SF.ModelFlythrough(model, verb_dataset, [variables_requested[0]], [start_utcts, end_utcts], [4., 5.], [1., 1.],\n",
    "                             [45., 45.], 'LEA-rb')\n",
    "results[variables_requested[0]]"
   ],
   "outputs": [],
   "execution_count": null
  },
  {
   "metadata": {},
   "cell_type": "code",
   "source": [
    "# Test that one variable works through the flythrough\n",
    "results = SF.ModelFlythrough(model, verb_dataset, [variables_requested[0]], [start_utcts], [4.], [1.],\n",
    "                             [45.], 'LEA-rb')\n",
    "results[variables_requested[0]]"
   ],
   "outputs": [],
   "execution_count": null
  }
 ],
 "metadata": {
  "kernelspec": {
   "display_name": "Python 3 (ipykernel)",
   "language": "python",
   "name": "python3"
  },
  "language_info": {
   "codemirror_mode": {
    "name": "ipython",
    "version": 3
   },
   "file_extension": ".py",
   "mimetype": "text/x-python",
   "name": "python",
   "nbconvert_exporter": "python",
   "pygments_lexer": "ipython3",
   "version": "3.10.11"
  }
 },
 "nbformat": 4,
 "nbformat_minor": 4
}
